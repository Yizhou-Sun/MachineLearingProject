{
 "cells": [
  {
   "cell_type": "code",
   "execution_count": 1,
   "metadata": {
    "scrolled": false
   },
   "outputs": [
    {
     "name": "stdout",
     "output_type": "stream",
     "text": [
      "Read Data\n",
      "Selecting  88\n",
      "Training...\n"
     ]
    },
    {
     "name": "stderr",
     "output_type": "stream",
     "text": [
      "C:\\ProgramData\\Anaconda3\\lib\\site-packages\\sklearn\\neural_network\\multilayer_perceptron.py:563: ConvergenceWarning: Stochastic Optimizer: Maximum iterations reached and the optimization hasn't converged yet.\n",
      "  % (), ConvergenceWarning)\n"
     ]
    },
    {
     "name": "stdout",
     "output_type": "stream",
     "text": [
      "Validation score  0.757806054849\n",
      "Validation score  0.766155846104\n",
      "Validation score  0.769655758606\n",
      "Validation score  0.770155746106\n",
      "Validation score  0.773630659234\n",
      "Validation score  0.772355691108\n"
     ]
    },
    {
     "data": {
      "image/png": "[encoded data removed]",
      "text/plain": [
       "<matplotlib.figure.Figure at 0x2a176ac8>"
      ]
     },
     "metadata": {},
     "output_type": "display_data"
    }
   ],
   "source": [
    "%matplotlib inline\n",
    "import numpy\n",
    "import matplotlib.pyplot as plt\n",
    "import csv\n",
    "\n",
    "from sklearn.neural_network import MLPClassifier\n",
    "from sklearn.feature_selection import SelectKBest\n",
    "\n",
    "print('Read Data')\n",
    "# Read train file\n",
    "un_trainX = numpy.genfromtxt(\"trainless.csv\", delimiter=',')\n",
    "n_trainX = un_trainX #/ un_trainX.max(axis=0)\n",
    "trainLabel = numpy.genfromtxt(\"trainLabelless.csv\", delimiter=',')\n",
    "# Read validation file\n",
    "un_testX = numpy.genfromtxt(\"validation.csv\", delimiter=',')\n",
    "n_testX = un_testX #/ un_trainX.max(axis=0)\n",
    "testLabel = numpy.genfromtxt(\"validationLabel.csv\", delimiter=',')\n",
    "# Read test file\n",
    "un_testdata = numpy.genfromtxt(\"test.csv\", delimiter=',')\n",
    "n_testdata = un_testdata #/ un_trainX.max(axis=0)\n",
    "\n",
    "# Select features\n",
    "k = [88]\n",
    "maX = 0\n",
    "for j in range(len(k)):\n",
    "    print('Selecting ', k[j])\n",
    "    selection = SelectKBest(k=k[j]).fit(n_trainX, trainLabel)\n",
    "    n_trainX_new = selection.transform(n_trainX)\n",
    "    n_testX_new = selection.transform(n_testX)\n",
    "    n_testdata_new = selection.transform(n_testdata)\n",
    "\n",
    "    print('Training...')\n",
    "    iter = [50,100,150,200,250,300]\n",
    "    training = []\n",
    "    validation = []\n",
    "    for i in range(len(iter)):\n",
    "        mlp = MLPClassifier(verbose=0, random_state=0, max_iter=iter[i], activation='relu',\n",
    "                            solver='adam', learning_rate_init=0.00005,alpha=0.0001,hidden_layer_sizes=(80,))\n",
    "\n",
    "\n",
    "        mlp.fit(n_trainX_new, trainLabel)\n",
    "        training.append(mlp.score(n_trainX_new, trainLabel))\n",
    "        validation.append(mlp.score(n_testX_new, testLabel))\n",
    "        print('Validation score ', validation[i])\n",
    "        if (validation[i] > 0.90):\n",
    "            maX = validation[i]\n",
    "            print('Predict and write to file```````````````')\n",
    "            result = mlp.predict(n_testdata_new)\n",
    "            numpy.savetxt('result.csv', result, delimiter=',', fmt='%d')\n",
    "            print('Complete!!!')\n",
    "\n",
    "    plt.plot(iter, validation, 'r--.')\n",
    "    plt.plot(iter, training, 'b--.')\n",
    "    plt.show()\n"
   ]
  },
  {
   "cell_type": "code",
   "execution_count": 7,
   "metadata": {},
   "outputs": [
    {
     "name": "stdout",
     "output_type": "stream",
     "text": [
      "Read Data\n",
      "Selecting  88\n",
      "Training...\n"
     ]
    },
    {
     "ename": "AttributeError",
     "evalue": "'BernoulliRBM' object has no attribute 'score'",
     "output_type": "error",
     "traceback": [
      "\u001b[0;31m---------------------------------------------------------------------------\u001b[0m",
      "\u001b[0;31mAttributeError\u001b[0m                            Traceback (most recent call last)",
      "\u001b[0;32m<ipython-input-7-2472536c6002>\u001b[0m in \u001b[0;36m<module>\u001b[0;34m()\u001b[0m\n\u001b[1;32m     40\u001b[0m \u001b[1;33m\u001b[0m\u001b[0m\n\u001b[1;32m     41\u001b[0m         \u001b[0mmlp\u001b[0m\u001b[1;33m.\u001b[0m\u001b[0mfit\u001b[0m\u001b[1;33m(\u001b[0m\u001b[0mn_trainX_new\u001b[0m\u001b[1;33m,\u001b[0m \u001b[0mtrainLabel\u001b[0m\u001b[1;33m)\u001b[0m\u001b[1;33m\u001b[0m\u001b[0m\n\u001b[0;32m---> 42\u001b[0;31m         \u001b[0mtraining\u001b[0m\u001b[1;33m.\u001b[0m\u001b[0mappend\u001b[0m\u001b[1;33m(\u001b[0m\u001b[0mmlp\u001b[0m\u001b[1;33m.\u001b[0m\u001b[0mscore\u001b[0m\u001b[1;33m(\u001b[0m\u001b[0mn_trainX_new\u001b[0m\u001b[1;33m,\u001b[0m \u001b[0mtrainLabel\u001b[0m\u001b[1;33m)\u001b[0m\u001b[1;33m)\u001b[0m\u001b[1;33m\u001b[0m\u001b[0m\n\u001b[0m\u001b[1;32m     43\u001b[0m         \u001b[0mvalidation\u001b[0m\u001b[1;33m.\u001b[0m\u001b[0mappend\u001b[0m\u001b[1;33m(\u001b[0m\u001b[0mmlp\u001b[0m\u001b[1;33m.\u001b[0m\u001b[0mscore\u001b[0m\u001b[1;33m(\u001b[0m\u001b[0mn_testX_new\u001b[0m\u001b[1;33m,\u001b[0m \u001b[0mtestLabel\u001b[0m\u001b[1;33m)\u001b[0m\u001b[1;33m)\u001b[0m\u001b[1;33m\u001b[0m\u001b[0m\n\u001b[1;32m     44\u001b[0m         \u001b[0mprint\u001b[0m\u001b[1;33m(\u001b[0m\u001b[1;34m'Validation score '\u001b[0m\u001b[1;33m,\u001b[0m \u001b[0mtraining\u001b[0m\u001b[1;33m[\u001b[0m\u001b[0mi\u001b[0m\u001b[1;33m]\u001b[0m\u001b[1;33m)\u001b[0m\u001b[1;33m\u001b[0m\u001b[0m\n",
      "\u001b[0;31mAttributeError\u001b[0m: 'BernoulliRBM' object has no attribute 'score'"
     ]
    }
   ],
   "source": [
    "%matplotlib inline\n",
    "import numpy\n",
    "import matplotlib.pyplot as plt\n",
    "import csv\n",
    "\n",
    "from sklearn.neural_network import MLPClassifier\n",
    "from sklearn.feature_selection import SelectKBest\n",
    "from sklearn.neural_network import BernoulliRBM\n",
    "\n",
    "print('Read Data')\n",
    "# Read train file\n",
    "un_trainX = numpy.genfromtxt(\"trainfull.csv\", delimiter=',')\n",
    "n_trainX = un_trainX / un_trainX.max(axis=0)\n",
    "trainLabel = numpy.genfromtxt(\"trainLabelfull.csv\", delimiter=',')\n",
    "# Read validation file\n",
    "un_testX = numpy.genfromtxt(\"validation.csv\", delimiter=',')\n",
    "n_testX = un_testX / un_trainX.max(axis=0)\n",
    "testLabel = numpy.genfromtxt(\"validationLabel.csv\", delimiter=',')\n",
    "# Read test file\n",
    "un_testdata = numpy.genfromtxt(\"test.csv\", delimiter=',')\n",
    "n_testdata = un_testdata / un_trainX.max(axis=0)\n",
    "\n",
    "# Select features\n",
    "k = [88]\n",
    "maX = 0\n",
    "for j in range(len(k)):\n",
    "    print('Selecting ', k[j])\n",
    "    selection = SelectKBest(k=k[j]).fit(n_trainX, trainLabel)\n",
    "    n_trainX_new = selection.transform(n_trainX)\n",
    "    n_testX_new = selection.transform(n_testX)\n",
    "    n_testdata_new = selection.transform(n_testdata)\n",
    "\n",
    "    print('Training...')\n",
    "    iter = [100,150,200,250,300]\n",
    "    training = []\n",
    "    validation = []\n",
    "    for i in range(len(iter)):\n",
    "        mlp = BernoulliRBM(verbose=0, random_state=0)\n",
    "\n",
    "\n",
    "        mlp.fit(n_trainX_new, trainLabel)\n",
    "        training.append(mlp.score(n_trainX_new, trainLabel))\n",
    "        validation.append(mlp.score(n_testX_new, testLabel))\n",
    "        print('Validation score ', training[i])\n",
    "        if (training[i] > 0.80):\n",
    "            maX = training[i]\n",
    "            print('Predict and write to file```````````````')\n",
    "            result = mlp.predict(n_testdata_new)\n",
    "            numpy.savetxt('result.csv', result, delimiter=',', fmt='%d')\n",
    "            print('Complete!!!')\n",
    "\n",
    "    plt.plot(iter, validation, 'r--.')\n",
    "    plt.plot(iter, training, 'b--.')\n",
    "    plt.show()"
   ]
  },
  {
   "cell_type": "code",
   "execution_count": null,
   "metadata": {
    "collapsed": true
   },
   "outputs": [],
   "source": []
  }
 ],
 "metadata": {
  "anaconda-cloud": {},
  "kernelspec": {
   "display_name": "Python 3",
   "language": "python",
   "name": "python3"
  },
  "language_info": {
   "codemirror_mode": {
    "name": "ipython",
    "version": 3
   },
   "file_extension": ".py",
   "mimetype": "text/x-python",
   "name": "python",
   "nbconvert_exporter": "python",
   "pygments_lexer": "ipython3",
   "version": "3.6.0"
  }
 },
 "nbformat": 4,
 "nbformat_minor": 2
}
