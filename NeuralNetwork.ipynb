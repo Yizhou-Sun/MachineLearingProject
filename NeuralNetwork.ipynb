{
 "cells": [
  {
   "cell_type": "code",
   "execution_count": null,
   "metadata": {
    "scrolled": false
   },
   "outputs": [
    {
     "name": "stdout",
     "output_type": "stream",
     "text": [
      "Read Data\n",
      "Selecting  100\n",
      "Training...\n"
     ]
    },
    {
     "name": "stderr",
     "output_type": "stream",
     "text": [
      "C:\\Users\\lib-pac-uris-ppc\\AppData\\Local\\Continuum\\Anaconda3\\lib\\site-packages\\sklearn\\neural_network\\multilayer_perceptron.py:563: ConvergenceWarning: Stochastic Optimizer: Maximum iterations reached and the optimization hasn't converged yet.\n",
      "  % (), ConvergenceWarning)\n"
     ]
    },
    {
     "name": "stdout",
     "output_type": "stream",
     "text": [
      "Validation score  0.755906102347\n",
      "predict and write to file\n",
      "Complete\n",
      "Validation score  0.788580285493\n",
      "predict and write to file\n",
      "Complete\n",
      "Validation score  0.797305067373\n",
      "predict and write to file\n",
      "Complete\n",
      "Validation score  0.805004874878\n",
      "predict and write to file\n",
      "Complete\n"
     ]
    },
    {
     "name": "stderr",
     "output_type": "stream",
     "text": [
      "C:\\Users\\lib-pac-uris-ppc\\AppData\\Local\\Continuum\\Anaconda3\\lib\\site-packages\\sklearn\\neural_network\\multilayer_perceptron.py:565: UserWarning: Training interrupted by user.\n",
      "  warnings.warn(\"Training interrupted by user.\")\n"
     ]
    },
    {
     "name": "stdout",
     "output_type": "stream",
     "text": [
      "Validation score  0.806904827379\n",
      "predict and write to file\n",
      "Complete\n"
     ]
    }
   ],
   "source": [
    "%matplotlib inline\n",
    "import numpy\n",
    "import matplotlib.pyplot as plt\n",
    "import csv\n",
    "\n",
    "from sklearn.neural_network import MLPClassifier\n",
    "from sklearn.feature_selection import SelectKBest\n",
    "\n",
    "print('Read Data')\n",
    "# Read train file\n",
    "un_trainX = numpy.genfromtxt(\"train.csv\", delimiter=',')\n",
    "n_trainX = un_trainX / un_trainX.max(axis=0)\n",
    "trainLabel = numpy.genfromtxt(\"trainLabel.csv\", delimiter=',')\n",
    "# Read validation file\n",
    "un_testX = numpy.genfromtxt(\"validation.csv\", delimiter=',')\n",
    "n_testX = un_testX / un_trainX.max(axis=0)\n",
    "testLabel = numpy.genfromtxt(\"validationLabel.csv\", delimiter=',')\n",
    "# Read test file\n",
    "un_testdata = numpy.genfromtxt(\"test.csv\", delimiter=',')\n",
    "n_testdata = un_testdata / un_trainX.max(axis=0)\n",
    "\n",
    "# Select features\n",
    "k = [100]\n",
    "max = 0\n",
    "for j in range(len(k)):\n",
    "    print('Selecting ', k[j])\n",
    "    #selection = SelectKBest(k=k[j]).fit(n_trainX, trainLabel)\n",
    "    n_trainX_new = n_trainX #selection.transform(n_trainX)\n",
    "    n_testX_new = n_testX #selection.transform(n_testX)\n",
    "    n_testdata_new = n_testdata #selection.transform(n_testdata)\n",
    "\n",
    "    print('Training...')\n",
    "    iter = [10,50,100,150,200,300]\n",
    "    training = []\n",
    "    validation = []\n",
    "    for i in range(len(iter)):\n",
    "        mlp = MLPClassifier(verbose=0, random_state=0, max_iter=iter[i], hidden_layer_sizes=(60, ),\n",
    "                            solver='adam', learning_rate_init=0.0001,alpha=0.001)\n",
    "\n",
    "\n",
    "        mlp.fit(n_trainX_new, trainLabel)\n",
    "        training.append(mlp.score(n_trainX_new, trainLabel))\n",
    "        validation.append(mlp.score(n_testX_new, testLabel))\n",
    "        print('Validation score ', validation[i])\n",
    "        if (validation[i] > max):\n",
    "            max = validation[i]\n",
    "            print('predict and write to file')\n",
    "            result = mlp.predict(n_testdata_new)\n",
    "            numpy.savetxt('result.csv', result, delimiter=',', fmt='%d')\n",
    "            print('Complete')\n",
    "\n",
    "    plt.plot(iter, validation, 'r--.')\n",
    "    plt.plot(iter, training, 'b--.')\n",
    "    plt.show()\n"
   ]
  },
  {
   "cell_type": "code",
   "execution_count": null,
   "metadata": {
    "collapsed": true
   },
   "outputs": [],
   "source": [
    "%matplotlib inline\n",
    "import numpy\n",
    "import matplotlib.pyplot as plt\n",
    "import csv\n",
    "\n",
    "from sklearn.neural_network import MLPClassifier\n",
    "from sklearn.feature_selection import SelectKBest\n",
    "from sklearn.decomposition import PCA\n",
    "\n",
    "print('Read Data')\n",
    "# Read train file\n",
    "un_trainX = numpy.genfromtxt(\"train.csv\", delimiter=',')\n",
    "n_trainX = un_trainX / un_trainX.max(axis=0)\n",
    "trainLabel = numpy.genfromtxt(\"trainLabel.csv\", delimiter=',')\n",
    "# Read validation file\n",
    "un_testX = numpy.genfromtxt(\"validation.csv\", delimiter=',')\n",
    "n_testX = un_testX / un_trainX.max(axis=0)\n",
    "testLabel = numpy.genfromtxt(\"validationLabel.csv\", delimiter=',')\n",
    "# Read test file\n",
    "un_testdata = numpy.genfromtxt(\"test.csv\", delimiter=',')\n",
    "n_testdata = un_testdata / un_trainX.max(axis=0)\n",
    "\n",
    "\n",
    "# Select features\n",
    "k = [100]\n",
    "max = 0\n",
    "for j in range(len(k)):\n",
    "    print('n_components ', k[j])\n",
    "    pca = PCA(n_components=k[j], svd_solver='randomized',\n",
    "              whiten=True)\n",
    "    pca.fit(n_trainX, trainLabel)\n",
    "    n_trainX_new = pca.transform(n_trainX)\n",
    "    n_testX_new = pca.transform(n_testX)\n",
    "    n_testdata_new = pca.transform(n_testdata)\n",
    "    \n",
    "    \n",
    "    print('Training...')\n",
    "    iter = [10,50,100,150,200,400]\n",
    "    training = []\n",
    "    validation = []\n",
    "    for i in range(len(iter)):\n",
    "        mlp = MLPClassifier(verbose=0, random_state=0, max_iter=iter[i], hidden_layer_sizes=(150, ),\n",
    "                            solver='adam', learning_rate_init=0.0001,alpha=0.0001)\n",
    "\n",
    "\n",
    "        mlp.fit(n_trainX_new, trainLabel)\n",
    "        training.append(mlp.score(n_trainX_new, trainLabel))\n",
    "        validation.append(mlp.score(n_testX_new, testLabel))\n",
    "        print('Validation score ', validation[i])\n",
    "        if (validation[i] > max):\n",
    "            max = validation[i]\n",
    "            print('predict and write to file')\n",
    "            result = mlp.predict(n_testdata_new)\n",
    "            numpy.savetxt('result.csv', result, delimiter=',', fmt='%d')\n",
    "            print('Complete')\n",
    "\n",
    "    plt.plot(iter, validation, 'r--.')\n",
    "    plt.plot(iter, training, 'b--.')\n",
    "    plt.show()"
   ]
  }
 ],
 "metadata": {
  "anaconda-cloud": {},
  "kernelspec": {
   "display_name": "Python 3",
   "language": "python",
   "name": "python3"
  },
  "language_info": {
   "codemirror_mode": {
    "name": "ipython",
    "version": 3
   },
   "file_extension": ".py",
   "mimetype": "text/x-python",
   "name": "python",
   "nbconvert_exporter": "python",
   "pygments_lexer": "ipython3",
   "version": "3.6.0"
  }
 },
 "nbformat": 4,
 "nbformat_minor": 2
}
