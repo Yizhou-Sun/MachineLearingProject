{
 "cells": [
  {
   "cell_type": "code",
   "execution_count": 3,
   "metadata": {
    "collapsed": false
   },
   "outputs": [
    {
     "name": "stdout",
     "output_type": "stream",
     "text": [
      "Read Data\n",
      "Selecting features =  40\n",
      "Training \n",
      "accuracy =  0.530761730957\n",
      "Selecting features =  60\n",
      "Training \n",
      "accuracy =  0.532886677833\n",
      "Selecting features =  80\n",
      "Training \n",
      "accuracy =  0.532386690333\n",
      "Selecting features =  88\n",
      "Training \n",
      "accuracy =  0.533336666583\n"
     ]
    },
    {
     "data": {
      "image/png": "[encoded data removed]",
      "text/plain": [
       "<matplotlib.figure.Figure at 0x18ed4898>"
      ]
     },
     "metadata": {},
     "output_type": "display_data"
    }
   ],
   "source": [
    "%matplotlib inline\n",
    "import numpy\n",
    "import matplotlib.pyplot as plt\n",
    "import csv\n",
    "\n",
    "from sklearn.naive_bayes import MultinomialNB\n",
    "from sklearn.naive_bayes import GaussianNB\n",
    "from sklearn.feature_selection import SelectKBest\n",
    "\n",
    "print('Read Data')\n",
    "# Read train file\n",
    "un_trainX = numpy.genfromtxt(\"train.csv\", delimiter=',')\n",
    "n_trainX = un_trainX / un_trainX.max(axis=0)\n",
    "trainLabel = numpy.genfromtxt(\"trainLabel.csv\", delimiter=',')\n",
    "# Read validation file\n",
    "un_testX = numpy.genfromtxt(\"validation.csv\", delimiter=',')\n",
    "n_testX = un_testX / un_trainX.max(axis=0)\n",
    "testLabel = numpy.genfromtxt(\"validationLabel.csv\", delimiter=',')\n",
    "# Read test file\n",
    "un_testdata = numpy.genfromtxt(\"test.csv\", delimiter=',')\n",
    "n_testdata = un_testdata / un_trainX.max(axis=0)\n",
    "\n",
    "\n",
    "k = [40,60,80,88]\n",
    "maX = 0\n",
    "accuracy = []\n",
    "for i in range(len(k)):\n",
    "    print(\"Selecting features = \", k[i])\n",
    "    selection = SelectKBest(k=k[i]).fit(n_trainX, trainLabel)\n",
    "    n_trainX_new = selection.transform(n_trainX)\n",
    "    n_testX_new = selection.transform(n_testX)\n",
    "    n_testdata_new = selection.transform(n_testdata)\n",
    "\n",
    "    #beta = [0.0000001, 0.0001, 0.1, 1, 1000]\n",
    "    \n",
    "    #for j in range(len(beta)):\n",
    "    print(\"Training \")\n",
    "    clf = GaussianNB()\n",
    "    clf.fit(n_trainX_new, trainLabel)\n",
    "    # compute accuracy\n",
    "    result = clf.score(n_testX_new, testLabel)\n",
    "    print(\"accuracy = \", result)\n",
    "    accuracy.append(result)\n",
    "#         if (result > maX):\n",
    "#             maX = result\n",
    "#             print(\"Predict and write to file\")\n",
    "#             answer = clf.predict(n_testdata_new)\n",
    "#             numpy.savetxt('result.csv', answer, delimiter=',', fmt='%d')\n",
    "    \n",
    "plt.plot(k, accuracy)\n",
    "plt.show()\n",
    "\n"
   ]
  },
  {
   "cell_type": "code",
   "execution_count": null,
   "metadata": {
    "collapsed": true
   },
   "outputs": [],
   "source": []
  }
 ],
 "metadata": {
  "anaconda-cloud": {},
  "kernelspec": {
   "display_name": "Python 3",
   "language": "python",
   "name": "python3"
  },
  "language_info": {
   "codemirror_mode": {
    "name": "ipython",
    "version": 3
   },
   "file_extension": ".py",
   "mimetype": "text/x-python",
   "name": "python",
   "nbconvert_exporter": "python",
   "pygments_lexer": "ipython3",
   "version": "3.6.0"
  }
 },
 "nbformat": 4,
 "nbformat_minor": 2
}
