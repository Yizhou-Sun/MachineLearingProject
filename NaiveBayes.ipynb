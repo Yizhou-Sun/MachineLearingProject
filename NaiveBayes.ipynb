{
 "cells": [
  {
   "cell_type": "code",
   "execution_count": 5,
   "metadata": {},
   "outputs": [
    {
     "name": "stdout",
     "output_type": "stream",
     "text": [
      "Read Data\n",
      "Selecting features =  60\n",
      "Training \n",
      "accuracy =  0.530744444444\n",
      "Selecting features =  80\n",
      "Training \n",
      "accuracy =  0.530888888889\n",
      "Selecting features =  100\n",
      "Training \n",
      "accuracy =  0.531222222222\n",
      "Selecting features =  120\n",
      "Training \n",
      "accuracy =  0.532244444444\n",
      "Selecting features =  140\n",
      "Training \n",
      "accuracy =  0.532088888889\n"
     ]
    },
    {
     "data": {
      "image/png": "[encoded data removed]",
      "text/plain": [
       "<matplotlib.figure.Figure at 0x56e412b0>"
      ]
     },
     "metadata": {},
     "output_type": "display_data"
    }
   ],
   "source": [
    "%matplotlib inline\n",
    "import numpy\n",
    "import matplotlib.pyplot as plt\n",
    "import csv\n",
    "\n",
    "from sklearn.naive_bayes import MultinomialNB\n",
    "from sklearn.naive_bayes import GaussianNB\n",
    "from sklearn.feature_selection import SelectKBest\n",
    "\n",
    "print('Read Data')\n",
    "# Read train file\n",
    "un_trainX = numpy.genfromtxt(\"trainFeatures.csv\", delimiter=',')\n",
    "n_trainX = un_trainX / un_trainX.max(axis=0)\n",
    "trainLabel = numpy.genfromtxt(\"trainLabel.csv\", delimiter=',')\n",
    "# Read validation file\n",
    "un_testX = numpy.genfromtxt(\"validationFeatures.csv\", delimiter=',')\n",
    "n_testX = un_testX / un_trainX.max(axis=0)\n",
    "testLabel = numpy.genfromtxt(\"validationLabel.csv\", delimiter=',')\n",
    "# Read test file\n",
    "un_testdata = numpy.genfromtxt(\"test.csv\", delimiter=',')\n",
    "n_testdata = un_testdata / un_trainX.max(axis=0)\n",
    "\n",
    "\n",
    "k = [60, 80, 100, 120, 140]\n",
    "maX = 0\n",
    "accuracy = []\n",
    "for i in range(len(k)):\n",
    "    print(\"Selecting features = \", k[i])\n",
    "    selection = SelectKBest(k=k[i]).fit(n_trainX, trainLabel)\n",
    "    n_trainX_new = selection.transform(n_trainX)\n",
    "    n_testX_new = selection.transform(n_testX)\n",
    "    n_testdata_new = selection.transform(n_testdata)\n",
    "\n",
    "    #beta = [0.0000001, 0.0001, 0.1, 1, 1000]\n",
    "    \n",
    "    #for j in range(len(beta)):\n",
    "    print(\"Training \")\n",
    "    clf = GaussianNB()\n",
    "    clf.fit(n_trainX_new, trainLabel)\n",
    "    # compute accuracy\n",
    "    result = clf.score(n_testX_new, testLabel)\n",
    "    print(\"accuracy = \", result)\n",
    "    accuracy.append(result)\n",
    "#         if (result > maX):\n",
    "#             maX = result\n",
    "#             print(\"Predict and write to file\")\n",
    "#             answer = clf.predict(n_testdata_new)\n",
    "#             numpy.savetxt('result.csv', answer, delimiter=',', fmt='%d')\n",
    "    \n",
    "plt.plot(k, accuracy)\n",
    "plt.show()\n",
    "\n"
   ]
  },
  {
   "cell_type": "code",
   "execution_count": null,
   "metadata": {
    "collapsed": true
   },
   "outputs": [],
   "source": []
  }
 ],
 "metadata": {
  "anaconda-cloud": {},
  "kernelspec": {
   "display_name": "Python 3",
   "language": "python",
   "name": "python3"
  },
  "language_info": {
   "codemirror_mode": {
    "name": "ipython",
    "version": 3
   },
   "file_extension": ".py",
   "mimetype": "text/x-python",
   "name": "python",
   "nbconvert_exporter": "python",
   "pygments_lexer": "ipython3",
   "version": "3.6.0"
  }
 },
 "nbformat": 4,
 "nbformat_minor": 2
}
