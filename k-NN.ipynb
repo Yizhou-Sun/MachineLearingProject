{
 "cells": [
  {
   "cell_type": "code",
   "execution_count": null,
   "metadata": {
    "collapsed": false
   },
   "outputs": [
    {
     "name": "stdout",
     "output_type": "stream",
     "text": [
      "Read Data\n",
      "Selecting features = 40\n",
      "Training neighbors = 2\n",
      "Predicting\n"
     ]
    }
   ],
   "source": [
    "%matplotlib inline\n",
    "import numpy\n",
    "import matplotlib.pyplot as plt\n",
    "import csv\n",
    "\n",
    "from sklearn.neighbors import KNeighborsClassifier\n",
    "from sklearn.feature_selection import SelectKBest\n",
    "from sklearn.feature_selection import RFE\n",
    "\n",
    "print('Read Data')\n",
    "# Read train file\n",
    "un_trainX = numpy.genfromtxt(\"trainless.csv\", delimiter=',')\n",
    "n_trainX = un_trainX / un_trainX.max(axis=0)\n",
    "trainLabel = numpy.genfromtxt(\"trainLabelless.csv\", delimiter=',')\n",
    "# Read validation file\n",
    "un_testX = numpy.genfromtxt(\"validation.csv\", delimiter=',')\n",
    "n_testX = un_testX / un_trainX.max(axis=0)\n",
    "testLabel = numpy.genfromtxt(\"validationLabel.csv\", delimiter=',')\n",
    "# Read test file\n",
    "un_testdata = numpy.genfromtxt(\"test.csv\", delimiter=',')\n",
    "n_testdata = un_testdata / un_trainX.max(axis=0)\n",
    "\n",
    "k = [40, 60, 80, 88]\n",
    "nb = [2, 5, 7, 10, 12, 15, 17, 20]\n",
    "maX = 0\n",
    "\n",
    "for i in range(len(k)):\n",
    "    print(\"Selecting features =\", k[i])\n",
    "    selection = SelectKBest(k=k[i]).fit(n_trainX, trainLabel)\n",
    "    n_trainX_new = selection.transform(n_trainX)\n",
    "    n_testX_new = selection.transform(n_testX)\n",
    "    n_testdata_new = selection.transform(n_testdata)\n",
    "\n",
    "    for j in range(len(nb)):\n",
    "        print(\"Training neighbors =\", nb[j])\n",
    "        clf = KNeighborsClassifier(n_neighbors = nb[j], p = 1)\n",
    "        clf.fit(n_trainX_new, trainLabel)\n",
    "        # compute accuracy\n",
    "        print(\"Predicting\")\n",
    "        result = clf.score(n_testX_new, testLabel)\n",
    "        print(\"accuracy =\", result)\n",
    "        accuracy.append(result)\n",
    "        if (result > 0.78 and result > maX):\n",
    "            maX = result\n",
    "            print(\"Predict and write to file\")\n",
    "            answer = clf.predict(n_testdata_new)\n",
    "            numpy.savetxt('result.csv', answer, delimiter=',', fmt='%d')\n",
    "        \n",
    "        plt.plot(nb, accuracy)\n",
    "        plt.show()   "
   ]
  },
  {
   "cell_type": "code",
   "execution_count": null,
   "metadata": {
    "collapsed": true
   },
   "outputs": [],
   "source": []
  }
 ],
 "metadata": {
  "anaconda-cloud": {},
  "kernelspec": {
   "display_name": "Python 3",
   "language": "python",
   "name": "python3"
  },
  "language_info": {
   "codemirror_mode": {
    "name": "ipython",
    "version": 3
   },
   "file_extension": ".py",
   "mimetype": "text/x-python",
   "name": "python",
   "nbconvert_exporter": "python",
   "pygments_lexer": "ipython3",
   "version": "3.6.0"
  }
 },
 "nbformat": 4,
 "nbformat_minor": 2
}
