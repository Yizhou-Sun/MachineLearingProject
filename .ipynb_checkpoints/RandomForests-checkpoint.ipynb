{
 "cells": [
  {
   "cell_type": "code",
   "execution_count": 1,
   "metadata": {},
   "outputs": [
    {
     "name": "stdout",
     "output_type": "stream",
     "text": [
      "Read Data\n"
     ]
    },
    {
     "ename": "ValueError",
     "evalue": "operands could not be broadcast together with shapes (150000,147) (146,) ",
     "output_type": "error",
     "traceback": [
      "\u001b[0;31m---------------------------------------------------------------------------\u001b[0m",
      "\u001b[0;31mValueError\u001b[0m                                Traceback (most recent call last)",
      "\u001b[0;32m<ipython-input-1-d29c59482823>\u001b[0m in \u001b[0;36m<module>\u001b[0;34m()\u001b[0m\n\u001b[1;32m     21\u001b[0m \u001b[1;31m# Read test file\u001b[0m\u001b[1;33m\u001b[0m\u001b[1;33m\u001b[0m\u001b[0m\n\u001b[1;32m     22\u001b[0m \u001b[0mun_testdata\u001b[0m \u001b[1;33m=\u001b[0m \u001b[0mnumpy\u001b[0m\u001b[1;33m.\u001b[0m\u001b[0mgenfromtxt\u001b[0m\u001b[1;33m(\u001b[0m\u001b[1;34m\"test.csv\"\u001b[0m\u001b[1;33m,\u001b[0m \u001b[0mdelimiter\u001b[0m\u001b[1;33m=\u001b[0m\u001b[1;34m','\u001b[0m\u001b[1;33m)\u001b[0m\u001b[1;33m\u001b[0m\u001b[0m\n\u001b[0;32m---> 23\u001b[0;31m \u001b[0mn_testdata\u001b[0m \u001b[1;33m=\u001b[0m \u001b[0mun_testdata\u001b[0m \u001b[1;33m/\u001b[0m \u001b[0mun_trainX\u001b[0m\u001b[1;33m.\u001b[0m\u001b[0mmax\u001b[0m\u001b[1;33m(\u001b[0m\u001b[0maxis\u001b[0m\u001b[1;33m=\u001b[0m\u001b[1;36m0\u001b[0m\u001b[1;33m)\u001b[0m\u001b[1;33m\u001b[0m\u001b[0m\n\u001b[0m\u001b[1;32m     24\u001b[0m \u001b[1;33m\u001b[0m\u001b[0m\n\u001b[1;32m     25\u001b[0m \u001b[1;31m# # Select features\u001b[0m\u001b[1;33m\u001b[0m\u001b[1;33m\u001b[0m\u001b[0m\n",
      "\u001b[0;31mValueError\u001b[0m: operands could not be broadcast together with shapes (150000,147) (146,) "
     ]
    }
   ],
   "source": [
    "%matplotlib inline\n",
    "import numpy\n",
    "import matplotlib.pyplot as plt\n",
    "import csv\n",
    "\n",
    "from sklearn.ensemble import RandomForestClassifier\n",
    "from sklearn.feature_selection import SelectKBest\n",
    "from sklearn.feature_selection import RFE\n",
    "\n",
    "print('Read Data')\n",
    "# Read train file\n",
    "un_trainX = numpy.genfromtxt(\"trainFeatures.csv\", delimiter=',')\n",
    "n_trainX = un_trainX / un_trainX.max(axis=0)\n",
    "trainLabel = numpy.genfromtxt(\"trainLabel.csv\", delimiter=',')\n",
    "\n",
    "# Read validation file\n",
    "un_testX = numpy.genfromtxt(\"validationFeatures.csv\", delimiter=',')\n",
    "n_testX = un_testX / un_trainX.max(axis=0)\n",
    "testLabel = numpy.genfromtxt(\"validationLabel.csv\", delimiter=',')\n",
    "\n",
    "# Read test file\n",
    "un_testdata = numpy.genfromtxt(\"test.csv\", delimiter=',')\n",
    "n_testdata = un_testdata / un_trainX.max(axis=0)\n",
    "\n",
    "# # Select features\n",
    "# selection = SelectKBest(k=100).fit(n_trainX, trainLabel)\n",
    "# n_trainX_new = selection.transform(n_trainX)\n",
    "# n_testX_new = selection.transform(n_testX)\n",
    "# n_testdata_new = selection.transform(n_testdata)\n",
    "\n",
    "# Bagging and Random Forests\n",
    "max = 0\n",
    "f = [130, 120]\n",
    "for i in range(5):\n",
    "    print(\"Training...\")\n",
    "    # train normalized dataset\n",
    "    clf = RandomForestClassifier(n_estimators = 60, min_samples_leaf = i + 3, random_state = 0)\n",
    "    print(\"min_samples_leaf = \", i+1)\n",
    "    \n",
    "    for j in range(len(f)):\n",
    "        print(\"feature \", f[j])\n",
    "        rfe = RFE(estimator=clf, n_features_to_select=f[j], step=10)\n",
    "        rfe.fit(n_trainX, trainLabel)\n",
    "\n",
    "        # compute accuracy\n",
    "        result = rfe.score(n_testX, testLabel)\n",
    "        print(result)\n",
    "        if (result > max):\n",
    "            max = result\n",
    "            print('predict and write to file')\n",
    "            save = mlp.predict(n_testdata)\n",
    "            numpy.savetxt('result.csv', save, delimiter=',', fmt='%d') \n",
    "\n",
    "        \n",
    "        \n",
    "# plt.xlabel('min_samples_leaf')\n",
    "# plt.ylabel('Accuracy')\n",
    "# plt.title('Accuracy vs min_samples_leaf size')\n",
    "\n",
    "# plt.plot(min_samples_leaf, accuracy, '--.', label = 'normalized dataset and m = 40')\n",
    "# plt.legend(loc='lower left')\n",
    "# plt.show()\n"
   ]
  },
  {
   "cell_type": "code",
   "execution_count": null,
   "metadata": {
    "collapsed": true
   },
   "outputs": [],
   "source": []
  }
 ],
 "metadata": {
  "anaconda-cloud": {},
  "kernelspec": {
   "display_name": "Python 3",
   "language": "python",
   "name": "python3"
  },
  "language_info": {
   "codemirror_mode": {
    "name": "ipython",
    "version": 3
   },
   "file_extension": ".py",
   "mimetype": "text/x-python",
   "name": "python",
   "nbconvert_exporter": "python",
   "pygments_lexer": "ipython3",
   "version": "3.6.0"
  }
 },
 "nbformat": 4,
 "nbformat_minor": 2
}
