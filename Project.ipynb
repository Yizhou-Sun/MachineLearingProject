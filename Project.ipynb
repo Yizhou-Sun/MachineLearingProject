{
 "cells": [
  {
   "cell_type": "code",
   "execution_count": null,
   "metadata": {},
   "outputs": [
    {
     "name": "stdout",
     "output_type": "stream",
     "text": [
      "training....\n",
      "training....\n",
      "training....\n",
      "training....\n",
      "training....\n",
      "training....\n"
     ]
    }
   ],
   "source": [
    "%matplotlib inline\n",
    "import numpy as np\n",
    "import matplotlib.pyplot as plt\n",
    "import csv\n",
    "\n",
    "from numpy import genfromtxt\n",
    "\n",
    "from sklearn.ensemble import AdaBoostClassifier\n",
    "from sklearn.tree import DecisionTreeClassifier\n",
    "\n",
    "# Read train file\n",
    "un_trainX = genfromtxt(\"trainFeatures.csv\", delimiter=',')\n",
    "n_trainX = un_trainX / un_trainX.max(axis=0)\n",
    "trainLabel = genfromtxt(\"trainLabel.csv\", delimiter=',')\n",
    "\n",
    "# Read test file\n",
    "un_testX = genfromtxt(\"validationFeatures.csv\", delimiter=',')\n",
    "n_testX = un_testX / un_trainX.max(axis=0)\n",
    "testLabel = genfromtxt(\"validationLabel.csv\", delimiter=',')\n",
    "\n",
    "n = [5, 10, 25, 50, 100]\n",
    "\n",
    "\n",
    "accuracy = []\n",
    "for i in range(len(n)):\n",
    "    print(\"training....\")\n",
    "    # train depth = 1\n",
    "    clf = AdaBoostClassifier(base_estimator = DecisionTreeClassifier(max_depth=1), n_estimators = n[i])\n",
    "    clf.fit(n_trainX, trainLabel)\n",
    "    # compute accuracy\n",
    "    result = clf.score(n_testX, testLabel)\n",
    "    print(\"accuracy = \", result)\n",
    "    accuracy.append(result)\n",
    "\n",
    "print(\"Completed\")\n",
    "plt.xlabel('m')\n",
    "plt.ylabel('Accuracy')\n",
    "plt.title('Accuracy vs number of weak classifiers')\n",
    "\n",
    "plt.plot(n, accuracy, '--.', label = 'depth = 1')\n",
    "plt.legend(loc='lower right')\n",
    "plt.show()\n",
    "\n"
   ]
  },
  {
   "cell_type": "code",
   "execution_count": null,
   "metadata": {
    "collapsed": true
   },
   "outputs": [],
   "source": []
  }
 ],
 "metadata": {
  "anaconda-cloud": {},
  "kernelspec": {
   "display_name": "Python 3",
   "language": "python",
   "name": "python3"
  },
  "language_info": {
   "codemirror_mode": {
    "name": "ipython",
    "version": 3
   },
   "file_extension": ".py",
   "mimetype": "text/x-python",
   "name": "python",
   "nbconvert_exporter": "python",
   "pygments_lexer": "ipython3",
   "version": "3.6.0"
  }
 },
 "nbformat": 4,
 "nbformat_minor": 2
}
