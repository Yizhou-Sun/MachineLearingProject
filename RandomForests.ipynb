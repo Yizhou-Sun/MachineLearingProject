{
 "cells": [
  {
   "cell_type": "code",
   "execution_count": 7,
   "metadata": {},
   "outputs": [
    {
     "name": "stdout",
     "output_type": "stream",
     "text": [
      "Training...\n",
      "0.774855555556\n",
      "Training...\n",
      "0.775388888889\n",
      "Training...\n",
      "0.776222222222\n",
      "Training...\n",
      "0.778066666667\n",
      "Training...\n",
      "0.776588888889\n",
      "Training...\n",
      "0.777566666667\n",
      "Training...\n",
      "0.776033333333\n",
      "Training...\n",
      "0.775333333333\n",
      "Training...\n",
      "0.776933333333\n",
      "Training...\n",
      "0.775288888889\n"
     ]
    },
    {
     "data": {
      "image/png": "[encoded data removed]",
      "text/plain": [
       "<matplotlib.figure.Figure at 0x54c3af28>"
      ]
     },
     "metadata": {},
     "output_type": "display_data"
    }
   ],
   "source": [
    "%matplotlib inline\n",
    "import numpy as np\n",
    "import matplotlib.pyplot as plt\n",
    "import csv\n",
    "\n",
    "from numpy import genfromtxt\n",
    "\n",
    "from sklearn.ensemble import RandomForestClassifier\n",
    "from sklearn.ensemble import AdaBoostClassifier\n",
    "from sklearn.tree import DecisionTreeClassifier\n",
    "from sklearn.feature_selection import SelectKBest\n",
    "from sklearn.feature_selection import SelectPercentile\n",
    "from sklearn.decomposition import PCA\n",
    "\n",
    "# Read train file\n",
    "un_trainX = genfromtxt(\"trainFeatures.csv\", delimiter=',')\n",
    "n_trainX = un_trainX / un_trainX.max(axis=0)\n",
    "trainLabel = genfromtxt(\"trainLabel.csv\", delimiter=',')\n",
    "\n",
    "# Read validation file\n",
    "un_testX = genfromtxt(\"validationFeatures.csv\", delimiter=',')\n",
    "n_testX = un_testX / un_trainX.max(axis=0)\n",
    "testLabel = genfromtxt(\"validationLabel.csv\", delimiter=',')\n",
    "\n",
    "# Read test file\n",
    "testsample = genfromtxt(\"test.csv\", delimiter=',')\n",
    "\n",
    "# Select features\n",
    "selection = SelectKBest(k=100).fit(n_trainX, trainLabel)\n",
    "n_trainX_new = selection.transform(n_trainX)\n",
    "n_testX_new = selection.transform(n_testX)\n",
    "\n",
    "\n",
    "# Bagging and Random Forests\n",
    "accuracy = []\n",
    "min_samples_leaf = []\n",
    "for i in range(10):\n",
    "    print(\"Training...\")\n",
    "    min_samples_leaf.append(i + 35)\n",
    "    # train normalized dataset\n",
    "    clf = RandomForestClassifier(n_estimators = 80, min_samples_leaf = i + 1, random_state = 0)\n",
    "    clf.fit(n_trainX_new, trainLabel)\n",
    "    \n",
    "    # compute accuracy\n",
    "    result = clf.score(n_testX_new, testLabel)\n",
    "    print(result)\n",
    "    accuracy.append(result)\n",
    "    \n",
    "plt.xlabel('min_samples_leaf')\n",
    "plt.ylabel('Accuracy')\n",
    "plt.title('Accuracy vs min_samples_leaf size')\n",
    "\n",
    "plt.plot(min_samples_leaf, accuracy, '--.', label = 'normalized dataset and m = 40')\n",
    "plt.legend(loc='lower left')\n",
    "plt.show()\n"
   ]
  },
  {
   "cell_type": "code",
   "execution_count": 6,
   "metadata": {},
   "outputs": [
    {
     "name": "stdout",
     "output_type": "stream",
     "text": [
      "Training...\n",
      "validation accuraacy =  0.778066666667\n",
      "Predicting...\n",
      "write result to disk\n",
      "Complete\n"
     ]
    }
   ],
   "source": [
    "%matplotlib inline\n",
    "import numpy\n",
    "import matplotlib.pyplot as plt\n",
    "import csv\n",
    "\n",
    "from sklearn.ensemble import RandomForestClassifier\n",
    "from sklearn.ensemble import AdaBoostClassifier\n",
    "from sklearn.tree import DecisionTreeClassifier\n",
    "from sklearn.feature_selection import SelectKBest\n",
    "from sklearn.feature_selection import SelectPercentile\n",
    "from sklearn.decomposition import PCA\n",
    "\n",
    "# Read train file\n",
    "un_trainX = numpy.genfromtxt(\"trainFeatures.csv\", delimiter=',')\n",
    "n_trainX = un_trainX / un_trainX.max(axis=0)\n",
    "trainLabel = numpy.genfromtxt(\"trainLabel.csv\", delimiter=',')\n",
    "\n",
    "# Read validation file\n",
    "un_testX = numpy.genfromtxt(\"validationFeatures.csv\", delimiter=',')\n",
    "n_testX = un_testX / un_trainX.max(axis=0)\n",
    "testLabel = numpy.genfromtxt(\"validationLabel.csv\", delimiter=',')\n",
    "\n",
    "# Read test file\n",
    "un_testdata = numpy.genfromtxt(\"test.csv\", delimiter=',')\n",
    "n_testdata = un_testdata / un_trainX.max(axis=0)\n",
    "\n",
    "# Select features\n",
    "selection = SelectKBest(k=100).fit(n_trainX, trainLabel)\n",
    "n_trainX_new = selection.transform(n_trainX)\n",
    "n_testX_new = selection.transform(n_testX)\n",
    "n_testdata_new = selection.transform(n_testdata)\n",
    "\n",
    "# Bagging and Random Forests\n",
    "print(\"Training...\")\n",
    "# train normalized dataset\n",
    "clf = RandomForestClassifier(n_estimators = 80, min_samples_leaf = 4, random_state = 0)\n",
    "clf.fit(n_trainX_new, trainLabel)\n",
    "\n",
    "# compute accuracy\n",
    "result = clf.score(n_testX_new, testLabel)\n",
    "print('Validation accuraacy = ', result)\n",
    "\n",
    "print('Predicting...')\n",
    "result = clf.predict(n_testdata_new)\n",
    "\n",
    "print('Write result to disk')\n",
    "numpy.savetxt('result.csv', result, delimiter=',', fmt='%d')    \n",
    "print('Complete')\n"
   ]
  }
 ],
 "metadata": {
  "anaconda-cloud": {},
  "kernelspec": {
   "display_name": "Python 3",
   "language": "python",
   "name": "python3"
  },
  "language_info": {
   "codemirror_mode": {
    "name": "ipython",
    "version": 3
   },
   "file_extension": ".py",
   "mimetype": "text/x-python",
   "name": "python",
   "nbconvert_exporter": "python",
   "pygments_lexer": "ipython3",
   "version": "3.6.0"
  }
 },
 "nbformat": 4,
 "nbformat_minor": 2
}
