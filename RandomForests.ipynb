{
 "cells": [
  {
   "cell_type": "code",
   "execution_count": 13,
   "metadata": {},
   "outputs": [
    {
     "name": "stdout",
     "output_type": "stream",
     "text": [
      "Training...\n",
      "0.762477777778\n",
      "Training...\n",
      "0.768522222222\n",
      "Training...\n",
      "0.770833333333\n",
      "Training...\n",
      "0.768344444444\n",
      "Training...\n",
      "0.769188888889\n",
      "Training...\n",
      "0.768622222222\n",
      "Training...\n",
      "0.768077777778\n",
      "Training...\n",
      "0.767933333333\n",
      "Training...\n",
      "0.7694\n",
      "Training...\n",
      "0.768411111111\n"
     ]
    },
    {
     "data": {
      "image/png": "[encoded data removed]",
      "text/plain": [
       "<matplotlib.figure.Figure at 0x49886588>"
      ]
     },
     "metadata": {},
     "output_type": "display_data"
    }
   ],
   "source": [
    "%matplotlib inline\n",
    "import numpy as np\n",
    "import matplotlib.pyplot as plt\n",
    "import csv\n",
    "\n",
    "from numpy import genfromtxt\n",
    "\n",
    "from sklearn.ensemble import RandomForestClassifier\n",
    "from sklearn.ensemble import AdaBoostClassifier\n",
    "from sklearn.tree import DecisionTreeClassifier\n",
    "from sklearn.feature_selection import SelectKBest\n",
    "from sklearn.feature_selection import SelectPercentile\n",
    "from sklearn.decomposition import PCA\n",
    "\n",
    "# Read train file\n",
    "un_trainX = genfromtxt(\"trainFeatures.csv\", delimiter=',')\n",
    "n_trainX = un_trainX / un_trainX.max(axis=0)\n",
    "trainLabel = genfromtxt(\"trainLabel.csv\", delimiter=',')\n",
    "\n",
    "# Read test file\n",
    "un_testX = genfromtxt(\"validationFeatures.csv\", delimiter=',')\n",
    "n_testX = un_testX / un_trainX.max(axis=0)\n",
    "testLabel = genfromtxt(\"validationLabel.csv\", delimiter=',')\n",
    "\n",
    "\n",
    "# Select features\n",
    "selection = SelectKBest(k=120).fit(n_trainX, trainLabel)\n",
    "n_trainX_new = selection.transform(n_trainX)\n",
    "n_testX_new = selection.transform(n_testX)\n",
    "\n",
    "\n",
    "# Bagging and Random Forests\n",
    "accuracy = []\n",
    "min_samples_leaf = []\n",
    "for i in range(10):\n",
    "    print(\"Training...\")\n",
    "    min_samples_leaf.append(i + 26)\n",
    "    # train normalized dataset\n",
    "    clf = RandomForestClassifier(n_estimators = 40, min_samples_leaf = i + 1, random_state = 0)\n",
    "    clf.fit(n_trainX_new, trainLabel)\n",
    "    \n",
    "    # compute accuracy\n",
    "    result = clf.score(n_testX_new, testLabel)\n",
    "    print(result)\n",
    "    accuracy.append(result)\n",
    "    \n",
    "plt.xlabel('min_samples_leaf')\n",
    "plt.ylabel('Accuracy')\n",
    "plt.title('Accuracy vs min_samples_leaf size')\n",
    "\n",
    "plt.plot(min_samples_leaf, accuracy, '--.', label = 'normalized dataset and m = 40')\n",
    "plt.legend(loc='lower left')\n",
    "plt.show()\n",
    "\n"
   ]
  },
  {
   "cell_type": "code",
   "execution_count": null,
   "metadata": {
    "collapsed": true
   },
   "outputs": [],
   "source": [
    "# m = [20, 25, 50]\n",
    "\n",
    "# # Bagging and Random Forests q1\n",
    "# accuracy = []\n",
    "# for i in range(len(m)):\n",
    "#     # train normalized dataset\n",
    "#     clf = RandomForestClassifier(n_estimators = m[i], random_state = 0)\n",
    "#     clf.fit(n_trainX, trainLabel)\n",
    "    \n",
    "#     # compute accuracy\n",
    "#     accuracy.append(clf.score(n_testX, testLabel))\n",
    "    \n",
    "# plt.xlabel('m')\n",
    "# plt.ylabel('Accuracy')\n",
    "# plt.title('Accuracy vs number of bootstrap samples')\n",
    "\n",
    "# plt.plot(m, accuracy, '--.', label = 'normalized dataset')\n",
    "# plt.legend(loc='lower right')\n",
    "# plt.show()"
   ]
  }
 ],
 "metadata": {
  "anaconda-cloud": {},
  "kernelspec": {
   "display_name": "Python 3",
   "language": "python",
   "name": "python3"
  },
  "language_info": {
   "codemirror_mode": {
    "name": "ipython",
    "version": 3
   },
   "file_extension": ".py",
   "mimetype": "text/x-python",
   "name": "python",
   "nbconvert_exporter": "python",
   "pygments_lexer": "ipython3",
   "version": "3.6.0"
  }
 },
 "nbformat": 4,
 "nbformat_minor": 2
}
