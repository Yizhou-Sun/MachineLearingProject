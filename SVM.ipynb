{
 "cells": [
  {
   "cell_type": "code",
   "execution_count": 5,
   "metadata": {},
   "outputs": [
    {
     "name": "stdout",
     "output_type": "stream",
     "text": [
      "Read Data\n",
      "training...\n"
     ]
    },
    {
     "name": "stderr",
     "output_type": "stream",
     "text": [
      "F:\\Anaconda3\\lib\\site-packages\\sklearn\\svm\\base.py:220: ConvergenceWarning: Solver terminated early (max_iter=1000).  Consider pre-processing your data with StandardScaler or MinMaxScaler.\n",
      "  % self.max_iter, ConvergenceWarning)\n"
     ]
    },
    {
     "name": "stdout",
     "output_type": "stream",
     "text": [
      "0.557833333333\n",
      "training...\n",
      "0.542944444444\n",
      "training...\n",
      "0.561377777778\n",
      "training...\n",
      "0.501533333333\n",
      "training...\n",
      "0.557833333333\n",
      "training...\n",
      "0.542944444444\n",
      "training...\n",
      "0.561377777778\n",
      "training...\n",
      "0.501533333333\n",
      "training...\n",
      "0.557833333333\n",
      "training...\n",
      "0.542944444444\n",
      "training...\n",
      "0.561377777778\n",
      "training...\n",
      "0.501533333333\n",
      "training...\n",
      "0.557833333333\n",
      "training...\n",
      "0.542944444444\n",
      "training...\n",
      "0.561377777778\n",
      "training...\n",
      "0.501533333333\n",
      "training...\n",
      "0.557833333333\n",
      "training...\n",
      "0.542944444444\n",
      "training...\n",
      "0.561377777778\n",
      "training...\n",
      "0.501533333333\n"
     ]
    }
   ],
   "source": [
    "%matplotlib inline\n",
    "import numpy\n",
    "import matplotlib.pyplot as plt\n",
    "import csv\n",
    "\n",
    "from sklearn.svm import SVC\n",
    "from sklearn.feature_selection import SelectKBest\n",
    "\n",
    "\n",
    "print('Read Data')\n",
    "# Read train file\n",
    "un_trainX = numpy.genfromtxt(\"trainFeatures.csv\", delimiter=',')\n",
    "n_trainX = un_trainX / un_trainX.max(axis=0)\n",
    "trainLabel = numpy.genfromtxt(\"trainLabel.csv\", delimiter=',')\n",
    "\n",
    "# Read validation file\n",
    "un_testX = numpy.genfromtxt(\"validationFeatures.csv\", delimiter=',')\n",
    "n_testX = un_testX / un_trainX.max(axis=0)\n",
    "testLabel = numpy.genfromtxt(\"validationLabel.csv\", delimiter=',')\n",
    "\n",
    "# Read test file\n",
    "un_testdata = numpy.genfromtxt(\"test.csv\", delimiter=',')\n",
    "n_testdata = un_testdata / un_trainX.max(axis=0)\n",
    "\n",
    "\n",
    "\n",
    "selection = SelectKBest(k=100).fit(n_trainX, trainLabel)\n",
    "n_trainX_new = selection.transform(n_trainX)\n",
    "n_testX_new = selection.transform(n_testX)\n",
    "n_testdata_new = selection.transform(n_testdata)\n",
    "k = [80,90,100,110]\n",
    "C = [0.01, 0.1, 1, 10, 100]\n",
    "max = 0\n",
    "for j in range(len(C)):\n",
    "    #print('Selecting ', k[j])\n",
    "    # Support Vector Machines\n",
    "    accuracy = []\n",
    "    gamma = [0.1, 0.5, 1, 5]\n",
    "    for i in range(len(gamma)):\n",
    "        # train\n",
    "        print(\"training...\")\n",
    "        clf = SVC(C = C[i], kernel='rbf', gamma = gamma[i], max_iter=1000)\n",
    "        clf.fit(n_trainX_new, trainLabel)\n",
    "        # compute accuracy\n",
    "        accuracy.append(clf.score(n_testX_new, testLabel))\n",
    "        print(accuracy[i])\n",
    "#         if (accuracy[i] > max):\n",
    "#             max = accuracy[i]\n",
    "#             print('predict and write to file')\n",
    "#             result = clf.predict(n_testdata_new)\n",
    "#             numpy.savetxt('result.csv', result, delimiter=',', fmt='%d') \n",
    "\n",
    "\n",
    "\n",
    "\n",
    "#         plt.xlabel('penalty parameter C')\n",
    "#         plt.ylabel('Accuracy')\n",
    "#         plt.title('Accuracy vs penalty parameter C linear kernel')\n",
    "\n",
    "#         plt.plot(C, accuracy, '--.', label = 'normalized dataset')\n",
    "#         plt.legend(loc='lower right')\n",
    "#         plt.xscale('log')\n",
    "#         plt.show()"
   ]
  },
  {
   "cell_type": "code",
   "execution_count": null,
   "metadata": {
    "collapsed": true
   },
   "outputs": [],
   "source": []
  }
 ],
 "metadata": {
  "anaconda-cloud": {},
  "kernelspec": {
   "display_name": "Python 3",
   "language": "python",
   "name": "python3"
  },
  "language_info": {
   "codemirror_mode": {
    "name": "ipython",
    "version": 3
   },
   "file_extension": ".py",
   "mimetype": "text/x-python",
   "name": "python",
   "nbconvert_exporter": "python",
   "pygments_lexer": "ipython3",
   "version": "3.6.0"
  }
 },
 "nbformat": 4,
 "nbformat_minor": 2
}
